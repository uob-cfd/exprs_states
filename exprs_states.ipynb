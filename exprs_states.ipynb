{
 "cells": [
  {
   "cell_type": "markdown",
   "metadata": {},
   "source": [
    "# Expressions, statements\n",
    "\n",
    "As for your previous exercises, this notebook uses the OKpy testing system."
   ]
  },
  {
   "cell_type": "code",
   "execution_count": null,
   "metadata": {},
   "outputs": [],
   "source": [
    "# Run this cell to set up the notebook, but please don't change it.\n",
    "# These lines load the tests.\n",
    "from client.api.notebook import Notebook\n",
    "ok = Notebook('exprs_states.ok')"
   ]
  },
  {
   "cell_type": "markdown",
   "metadata": {},
   "source": [
    "## The building blocks of Python code\n",
    "\n",
    "The two building blocks of Python code are *expressions* and *statements*.  An\n",
    "**expression** is a piece of code that\n",
    "\n",
    "* is self-contained, meaning it would make sense to write it on a line by\n",
    "  itself, and\n",
    "* usually evaluates to a value."
   ]
  },
  {
   "cell_type": "markdown",
   "metadata": {},
   "source": [
    "Here are two expressions that both evaluate to 3:\n",
    "\n",
    "    3\n",
    "    5 - 2\n",
    "\n",
    "One important type of expression is the **call expression**. A call expression begins with the name of a function and is followed by the argument(s) of that function in parentheses. The function returns some value, based on its arguments. Some important mathematical functions are listed below.\n",
    "\n",
    "| Function | Description                                                   |\n",
    "|----------|---------------------------------------------------------------|\n",
    "| `abs`      | Returns the absolute value of its argument                    |\n",
    "| `max`      | Returns the maximum of all its arguments                      |\n",
    "| `min`      | Returns the minimum of all its arguments                      |\n",
    "| `pow`      | Raises its first argument to the power of its second argument |\n",
    "| `round`    | Rounds its argument to the nearest integer                     |\n",
    "\n",
    "Here are two call expressions that both evaluate to 3:\n",
    "\n",
    "    abs(2 - 5)\n",
    "    max(round(2.8), min(pow(2, 10), -1 * pow(2, 10)))\n",
    "\n",
    "The expression `2 - 5` and the two call expressions given above are examples of **compound expressions**, meaning that they are actually combinations of several smaller expressions.  `2 - 5` combines the expressions `2` and `5` by subtraction.  In this case, `2` and `5` are called **subexpressions** because they're expressions that are part of a larger expression.\n",
    "\n",
    "A **statement** is a whole line of code.  Some statements are just expressions.  The expressions listed above are examples.\n",
    "\n",
    "Other statements *make something happen* rather than *having a value*. For example, an **assignment statement** assigns a value to a name.\n",
    "\n",
    "A good way to think about this is that we're **evaluating the right-hand side** of the equals sign and **assigning it to the left-hand side**. Here are some assignment statements:\n",
    "\n",
    "    height = 1.3\n",
    "    the_number_five = abs(-5)\n",
    "    absolute_height_difference = abs(height - 1.688)\n",
    "\n",
    "An important idea in programming is that large, interesting things can be built\n",
    "by combining many simple, uninteresting things.  The key to understanding a\n",
    "complicated piece of code is breaking it down into its simple components.\n",
    "\n",
    "For example, a lot is going on in the last statement above, but it's really just a combination of a few things.  This picture describes what's going on.\n",
    "\n",
    "<img src=\"statement.png\">\n",
    "\n",
    "**Question 1.1.** In the next cell, assign the name `new_year` to the larger number among the following two numbers:\n",
    "\n",
    "1. the **absolute value** of $2^{5}-2^{11}-2^2$, and\n",
    "2. $5 \\times 13 \\times 31 + 4$.\n",
    "\n",
    "Try to use just one statement (one line of code). Be sure to check your work by executing the test cell afterward.\n"
   ]
  },
  {
   "cell_type": "code",
   "execution_count": null,
   "metadata": {},
   "outputs": [],
   "source": [
    "new_year = ...\n",
    "new_year"
   ]
  },
  {
   "cell_type": "code",
   "execution_count": null,
   "metadata": {},
   "outputs": [],
   "source": [
    "ok.grade(\"q11\");"
   ]
  },
  {
   "cell_type": "markdown",
   "metadata": {},
   "source": [
    "We've asked you to use one line of code in the question above because it only\n",
    "involves mathematical operations. However, more complicated programming\n",
    "questions will more require more steps. It isn’t always a good idea to jam\n",
    "these steps into a single line because it can make the code harder to read and\n",
    "harder to debug.\n",
    "\n",
    "Good programming practice involves splitting up your code into smaller steps\n",
    "and using appropriate names. You'll have plenty of practice in the rest of this\n",
    "course!"
   ]
  },
  {
   "cell_type": "markdown",
   "metadata": {},
   "source": [
    "# Importing code"
   ]
  },
  {
   "cell_type": "markdown",
   "metadata": {},
   "source": [
    "Most programming involves work that is very similar to work that has been done\n",
    "before.  Since writing code is time-consuming, it's good to rely on others'\n",
    "published code when you can.  Rather than copy-pasting, Python allows us to\n",
    "**import modules**. A module is a library of Python code that has defined\n",
    "variables and functions.  By importing a module, we are able to use its code in\n",
    "our own notebook.\n",
    "\n",
    "Python includes many useful modules that are just an `import` away.  We'll look\n",
    "at the `numpy` module as a first example. The `numpy` module is extremely\n",
    "useful in computing mathematical expressions in Python.\n",
    "\n",
    "Suppose we want to very accurately compute the area of a circle with a radius\n",
    "of 5 meters.  For that, we need the constant $\\pi$, which is roughly 3.14.\n",
    "Conveniently, the `numpy` module has `pi` defined for us:"
   ]
  },
  {
   "cell_type": "code",
   "execution_count": null,
   "metadata": {},
   "outputs": [],
   "source": [
    "import numpy\n",
    "radius = 5\n",
    "area_of_circle = radius**2 * numpy.pi\n",
    "area_of_circle"
   ]
  },
  {
   "cell_type": "markdown",
   "metadata": {
    "lines_to_next_cell": 0
   },
   "source": [
    "In the code above, the line `import numpy` imports the Numpy module. This\n",
    "statement creates a module and then assigns the name `numpy` to that module. We\n",
    "are now able to access any variables or functions defined within `numpy` by\n",
    "typing the name of the module followed by a dot, then followed by the name of\n",
    "the variable or function we want.\n",
    "\n",
    "    <module name>.<name>\n"
   ]
  },
  {
   "cell_type": "markdown",
   "metadata": {
    "deletable": false,
    "editable": false
   },
   "source": [
    "**Question 2.1.** The module `numpy` also provides the name `e` for the base of\n",
    "*the natural logarithm, which is roughly 2.71. Compute $e^{\\pi}-\\pi$, giving it\n",
    "*the name `near_twenty`.\n",
    "\n",
    "*Remember: You can access `pi` from the `numpy` module as well!*\n",
    "\n",
    "<!--\n",
    "BEGIN QUESTION\n",
    "name: q21\n",
    "-->"
   ]
  },
  {
   "cell_type": "code",
   "execution_count": null,
   "metadata": {
    "deletable": false
   },
   "outputs": [],
   "source": [
    "near_twenty = ..."
   ]
  },
  {
   "cell_type": "code",
   "execution_count": null,
   "metadata": {
    "deletable": false,
    "editable": false
   },
   "outputs": [],
   "source": [
    "ok.grade(\"q21\");"
   ]
  },
  {
   "cell_type": "markdown",
   "metadata": {},
   "source": [
    "![XKCD](http://imgs.xkcd.com/comics/e_to_the_pi_minus_pi.png)\n",
    "\n",
    "[Source](http://imgs.xkcd.com/comics/e_to_the_pi_minus_pi.png)\n",
    "[Explanation](https://www.explainxkcd.com/wiki/index.php/217:_e_to_the_pi_Minus_pi)"
   ]
  },
  {
   "cell_type": "markdown",
   "metadata": {
    "deletable": false,
    "editable": false
   },
   "source": [
    "## 2.1. Accessing functions\n",
    "\n",
    "In the question above, you accessed variables within the `numpy` module.\n",
    "\n",
    "**Modules** can also define **functions**.  For example, `numpy` provides the\n",
    "*name `sin` for the sine function.  Having imported `numpy` already, we can\n",
    "*write `numpy.sin(3)` to compute the sine of 3.  (Note that this sine function\n",
    "*considers its argument to be in\n",
    "*[radians](https://en.wikipedia.org/wiki/Radian), not degrees.  180 degrees are\n",
    "*equivalent to $\\pi$ radians.)\n",
    "\n",
    "**Question 2.1.1.** A $\\frac{\\pi}{4}$-radian (45-degree) angle forms a right triangle with equal base and height, pictured below.  If the hypotenuse (the radius of the circle in the picture) is 1, then the height is $\\sin(\\frac{\\pi}{4})$.  Compute that value using `sin` and `pi` from the `numpy` module.  Give the result the name `sine_of_pi_over_four`.\n",
    "\n",
    "<img src=\"http://mathworld.wolfram.com/images/eps-gif/TrigonometryAnglesPi4_1000.gif\">\n",
    "\n",
    "[Source](http://mathworld.wolfram.com/images/eps-gif/TrigonometryAnglesPi4_1000.gif)\n",
    "\n",
    "<!--\n",
    "BEGIN QUESTION\n",
    "name: q211\n",
    "-->"
   ]
  },
  {
   "cell_type": "code",
   "execution_count": null,
   "metadata": {
    "deletable": false
   },
   "outputs": [],
   "source": [
    "sine_of_pi_over_four = ...\n",
    "sine_of_pi_over_four"
   ]
  },
  {
   "cell_type": "code",
   "execution_count": null,
   "metadata": {
    "deletable": false,
    "editable": false
   },
   "outputs": [],
   "source": [
    "ok.grade(\"q211\");"
   ]
  },
  {
   "cell_type": "markdown",
   "metadata": {},
   "source": [
    "For your reference, below are some more examples of functions from the `numpy`\n",
    "module.\n",
    "\n",
    "*Hint: If you press `shift+tab` while next to the function call, the\n",
    "documentation for that function will appear*."
   ]
  },
  {
   "cell_type": "code",
   "execution_count": null,
   "metadata": {},
   "outputs": [],
   "source": [
    "# Calculating square roots.\n",
    "numpy.sqrt(5)"
   ]
  },
  {
   "cell_type": "markdown",
   "metadata": {},
   "source": [
    "There are various ways to import and access code from outside sources. The method we used above — `import <module_name>` — imports the entire module and requires that we use `<module_name>.<name>` to access its code.\n",
    "\n",
    "We can also import a specific constant or function instead of the entire\n",
    "module. Notice that you don't have to use the module name beforehand to\n",
    "reference that particular value. However, you do have to be careful about\n",
    "reassigning the names of the constants or functions to other values!"
   ]
  },
  {
   "cell_type": "code",
   "execution_count": null,
   "metadata": {},
   "outputs": [],
   "source": [
    "# Importing just cos and pi from Numpy.\n",
    "# We don't have to use `numpy.` in front of cos or pi\n",
    "from numpy import cos, pi\n",
    "print(cos(pi))\n",
    "\n",
    "# We do have to use it in front of other functions from Numpy, though\n",
    "numpy.log(pi)"
   ]
  },
  {
   "cell_type": "markdown",
   "metadata": {},
   "source": [
    "Don't worry too much about which type of import to use. It's often a coding\n",
    "style choice left up to each programmer. In this course, you'll always import\n",
    "the necessary modules when you run the setup cell (like the first code cell in\n",
    "this lab)."
   ]
  },
  {
   "cell_type": "code",
   "execution_count": null,
   "metadata": {},
   "outputs": [],
   "source": [
    "# For your convenience, you can run this cell to run all the tests at once!\n",
    "import os\n",
    "_ = [ok.grade(q[:-3]) for q in os.listdir(\"tests\") if q.startswith('q')]"
   ]
  },
  {
   "cell_type": "markdown",
   "metadata": {},
   "source": [
    "## Notes\n",
    "\n",
    "From [the Berkeley course materials](https://github.com/data-8/materials-fa20)\n",
    "with thanks."
   ]
  }
 ],
 "metadata": {
  "jupytext": {
   "notebook_metadata_filter": "language_info",
   "text_representation": {
    "extension": ".Rmd",
    "format_name": "rmarkdown",
    "format_version": "1.0",
    "jupytext_version": "0.8.4"
   }
  },
  "kernelspec": {
   "display_name": "Python 3",
   "language": "python",
   "name": "python3"
  },
  "language_info": {
   "codemirror_mode": {
    "name": "ipython",
    "version": 3
   },
   "file_extension": ".py",
   "mimetype": "text/x-python",
   "name": "python",
   "nbconvert_exporter": "python",
   "pygments_lexer": "ipython3",
   "version": "3.7.0"
  }
 },
 "nbformat": 4,
 "nbformat_minor": 4
}
